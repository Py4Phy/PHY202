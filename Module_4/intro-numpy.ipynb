{
 "cells": [
  {
   "cell_type": "markdown",
   "metadata": {
    "nbpresent": {
     "id": "99e735cb-dd7c-4e48-853f-31f82429b7bb"
    },
    "slideshow": {
     "slide_type": "slide"
    }
   },
   "source": [
    "# Introduction to Numpy"
   ]
  },
  {
   "cell_type": "markdown",
   "metadata": {
    "nbpresent": {
     "id": "5008ae9f-3998-46e4-8b8c-9c0f8ba9c0b8"
    },
    "slideshow": {
     "slide_type": "fragment"
    }
   },
   "source": [
    "When it comes to doing numerical work, Python by itself is rather slow. By slow we mean compared to languages like C and Fortran, which benefit from being **compiled** languages in which a program is preprocessed into machine code by a compiler. Python by contrast is an **interpreted** language, in which each line in a program is fed to the Python interpreter in sequence, then executed. The flexiblity and ease of use that come with Python come at the cost of pure performance."
   ]
  },
  {
   "cell_type": "markdown",
   "metadata": {
    "nbpresent": {
     "id": "43a761af-5894-4a9a-8484-776d2ac3e087"
    },
    "slideshow": {
     "slide_type": "subslide"
    }
   },
   "source": [
    "However, though Python code itself may be slow, Python can be used to run code that is written in a compiled language and already compiled. We will use a library (a.k.a., a Python *module*) that does exactly this underneath the hood to get fast performance for numerical operations on arrays."
   ]
  },
  {
   "cell_type": "code",
   "execution_count": 1,
   "metadata": {
    "nbpresent": {
     "id": "b112759e-d32d-49b9-a1b0-2fa7047b9c6d"
    },
    "slideshow": {
     "slide_type": "fragment"
    }
   },
   "outputs": [],
   "source": [
    "import numpy as np"
   ]
  },
  {
   "cell_type": "markdown",
   "metadata": {
    "nbpresent": {
     "id": "025d0443-9c92-4f0c-8830-194895b6aafe"
    },
    "slideshow": {
     "slide_type": "skip"
    }
   },
   "source": [
    "Importing a module is like taking a piece of equipment out of a storage locker and setting it up on a lab bench. Importing the name `numpy` makes all the functions and classes (object types) available to us. The core data structure that `numpy` provides is known as the `numpy` array:"
   ]
  },
  {
   "cell_type": "markdown",
   "metadata": {
    "slideshow": {
     "slide_type": "subslide"
    }
   },
   "source": [
    "## The Numpy Array "
   ]
  },
  {
   "cell_type": "code",
   "execution_count": 2,
   "metadata": {
    "nbpresent": {
     "id": "a75f960d-39f5-47b0-ac16-d7e74f0954e0"
    },
    "slideshow": {
     "slide_type": "fragment"
    }
   },
   "outputs": [
    {
     "name": "stdout",
     "output_type": "stream",
     "text": [
      "[1 2 3 4]\n"
     ]
    }
   ],
   "source": [
    "somenums = np.array([1, 2, 3, 4])\n",
    "print(somenums)"
   ]
  },
  {
   "cell_type": "markdown",
   "metadata": {
    "nbpresent": {
     "id": "cca410bd-c293-487f-acda-bba04d350922"
    },
    "slideshow": {
     "slide_type": "fragment"
    }
   },
   "source": [
    "A numpy array looks superfically similar to a `list`, which is a builtin to Python. They are fundamentally different, however, in how they both work and how they exist in memory. `numpy` arrays don't store references to other objects, but instead point to contiguous blocks of memory in which each element is of exactly the same data type. For instance, we just made an array of 64 bit integers:"
   ]
  },
  {
   "cell_type": "code",
   "execution_count": 3,
   "metadata": {
    "nbpresent": {
     "id": "bef360fc-05a9-4322-8f47-cd1cf055b924"
    },
    "slideshow": {
     "slide_type": "fragment"
    }
   },
   "outputs": [
    {
     "data": {
      "text/plain": [
       "dtype('int64')"
      ]
     },
     "execution_count": 3,
     "metadata": {},
     "output_type": "execute_result"
    }
   ],
   "source": [
    "somenums.dtype"
   ]
  },
  {
   "cell_type": "code",
   "execution_count": 4,
   "metadata": {
    "nbpresent": {
     "id": "2f0ba392-82e7-4457-bd4e-b049aeabbb28"
    },
    "slideshow": {
     "slide_type": "subslide"
    }
   },
   "outputs": [
    {
     "data": {
      "text/plain": [
       "array(['Han Solo', 'Kylo Ren', '7'], dtype='<U8')"
      ]
     },
     "execution_count": 4,
     "metadata": {},
     "output_type": "execute_result"
    }
   ],
   "source": [
    "# this will give an array with a string dtype\n",
    "np.array(['Han Solo', \"Kylo Ren\", 7])"
   ]
  },
  {
   "cell_type": "code",
   "execution_count": 5,
   "metadata": {
    "nbpresent": {
     "id": "34d67fe2-86b5-41f4-977b-7ed30679ef91"
    },
    "slideshow": {
     "slide_type": "fragment"
    }
   },
   "outputs": [
    {
     "name": "stdout",
     "output_type": "stream",
     "text": [
      "[63.3 -5.   1. ]\n"
     ]
    }
   ],
   "source": [
    "# this will give an array of 64 bit floats\n",
    "floats = np.array([63.3, -5.0, 1])\n",
    "print(floats)"
   ]
  },
  {
   "cell_type": "code",
   "execution_count": 6,
   "metadata": {
    "nbpresent": {
     "id": "efff7bf9-6c65-451b-94ca-bc757450e961"
    },
    "slideshow": {
     "slide_type": "fragment"
    }
   },
   "outputs": [
    {
     "data": {
      "text/plain": [
       "dtype('float64')"
      ]
     },
     "execution_count": 6,
     "metadata": {},
     "output_type": "execute_result"
    }
   ],
   "source": [
    "floats.dtype "
   ]
  },
  {
   "cell_type": "markdown",
   "metadata": {
    "nbpresent": {
     "id": "c12b077e-56fb-4f6f-a186-4a12ea3054db"
    },
    "slideshow": {
     "slide_type": "subslide"
    }
   },
   "source": [
    "#### Arrays are fixed-size\n",
    "* *not* a container of objects \n",
    "* **a single object of identically sized pieces of data** \n",
    "* cannot be resized\n",
    "\n",
    "To add elements to an array, one must create a new array, using functions such as [np.hstack()](https://docs.scipy.org/doc/numpy/reference/generated/numpy.hstack.html) or [np.vstack()](https://docs.scipy.org/doc/numpy/reference/generated/numpy.vstack.html) or more generally [np.concatenate()](https://docs.scipy.org/doc/numpy/reference/generated/numpy.concatenate.html)."
   ]
  },
  {
   "cell_type": "markdown",
   "metadata": {
    "slideshow": {
     "slide_type": "subslide"
    }
   },
   "source": [
    "We typically **create new arrays at the desired size** using, for instance,\n",
    "```python\n",
    "a = np.zeros((100, 3))    # 100x3 array filled with zeroes\n",
    "b = np.ones(1000)         # 1000x1 array with ones \n",
    "c = np.arange(101)        # 0, 1, 2, 3, ..., 99, 100\n",
    "```"
   ]
  },
  {
   "cell_type": "markdown",
   "metadata": {
    "slideshow": {
     "slide_type": "fragment"
    }
   },
   "source": [
    "and then fill them via assignment\n",
    "```python\n",
    "b[0] = 42\n",
    "```"
   ]
  },
  {
   "cell_type": "markdown",
   "metadata": {
    "slideshow": {
     "slide_type": "subslide"
    }
   },
   "source": [
    "or create them from an extensible container such as a list\n",
    "```python\n",
    "data = []\n",
    "for k in range(10):\n",
    "    data.append(k**2)\n",
    "data = np.array(data)\n",
    "```"
   ]
  },
  {
   "cell_type": "markdown",
   "metadata": {
    "nbpresent": {
     "id": "1e972e32-2bd1-47dc-bfa9-6680c0935cf5"
    },
    "slideshow": {
     "slide_type": "slide"
    }
   },
   "source": [
    "## Array methods (or, arrays are objects)"
   ]
  },
  {
   "cell_type": "markdown",
   "metadata": {
    "nbpresent": {
     "id": "0f018a96-cde5-48f6-bbb1-4e1aa0652b3d"
    },
    "slideshow": {
     "slide_type": "fragment"
    }
   },
   "source": [
    "`numpy` arrays are built for numerical operations, and doing them quickly. \n",
    "\n",
    "Since like everything in Python these are *objects*, they include built-in methods such as:"
   ]
  },
  {
   "cell_type": "code",
   "execution_count": 7,
   "metadata": {
    "nbpresent": {
     "id": "b7026ae3-d80e-4d93-ad29-83f15c6f56d4"
    },
    "slideshow": {
     "slide_type": "fragment"
    }
   },
   "outputs": [
    {
     "data": {
      "text/plain": [
       "2.5"
      ]
     },
     "execution_count": 7,
     "metadata": {},
     "output_type": "execute_result"
    }
   ],
   "source": [
    "somenums.mean()"
   ]
  },
  {
   "cell_type": "code",
   "execution_count": 8,
   "metadata": {
    "nbpresent": {
     "id": "90762558-637f-4360-9c2a-0706ba977508"
    },
    "slideshow": {
     "slide_type": "fragment"
    }
   },
   "outputs": [
    {
     "data": {
      "text/plain": [
       "1.118033988749895"
      ]
     },
     "execution_count": 8,
     "metadata": {},
     "output_type": "execute_result"
    }
   ],
   "source": [
    "somenums.std()"
   ]
  },
  {
   "cell_type": "markdown",
   "metadata": {
    "nbpresent": {
     "id": "67fc8370-52a3-4088-aeb3-f067ffa0d8a3"
    },
    "slideshow": {
     "slide_type": "subslide"
    }
   },
   "source": [
    "and a whole plethora of others. You can get a view of what methods and attributes are part of an array's namespace with:"
   ]
  },
  {
   "cell_type": "code",
   "execution_count": 9,
   "metadata": {
    "nbpresent": {
     "id": "be6500a5-5ad2-4d73-91bf-6efb605eb21d"
    },
    "slideshow": {
     "slide_type": "fragment"
    }
   },
   "outputs": [
    {
     "data": {
      "text/plain": [
       "['T',\n",
       " '__abs__',\n",
       " '__add__',\n",
       " '__and__',\n",
       " '__array__',\n",
       " '__array_finalize__',\n",
       " '__array_interface__',\n",
       " '__array_prepare__',\n",
       " '__array_priority__',\n",
       " '__array_struct__',\n",
       " '__array_ufunc__',\n",
       " '__array_wrap__',\n",
       " '__bool__',\n",
       " '__class__',\n",
       " '__complex__',\n",
       " '__contains__',\n",
       " '__copy__',\n",
       " '__deepcopy__',\n",
       " '__delattr__',\n",
       " '__delitem__',\n",
       " '__dir__',\n",
       " '__divmod__',\n",
       " '__doc__',\n",
       " '__eq__',\n",
       " '__float__',\n",
       " '__floordiv__',\n",
       " '__format__',\n",
       " '__ge__',\n",
       " '__getattribute__',\n",
       " '__getitem__',\n",
       " '__gt__',\n",
       " '__hash__',\n",
       " '__iadd__',\n",
       " '__iand__',\n",
       " '__ifloordiv__',\n",
       " '__ilshift__',\n",
       " '__imatmul__',\n",
       " '__imod__',\n",
       " '__imul__',\n",
       " '__index__',\n",
       " '__init__',\n",
       " '__init_subclass__',\n",
       " '__int__',\n",
       " '__invert__',\n",
       " '__ior__',\n",
       " '__ipow__',\n",
       " '__irshift__',\n",
       " '__isub__',\n",
       " '__iter__',\n",
       " '__itruediv__',\n",
       " '__ixor__',\n",
       " '__le__',\n",
       " '__len__',\n",
       " '__lshift__',\n",
       " '__lt__',\n",
       " '__matmul__',\n",
       " '__mod__',\n",
       " '__mul__',\n",
       " '__ne__',\n",
       " '__neg__',\n",
       " '__new__',\n",
       " '__or__',\n",
       " '__pos__',\n",
       " '__pow__',\n",
       " '__radd__',\n",
       " '__rand__',\n",
       " '__rdivmod__',\n",
       " '__reduce__',\n",
       " '__reduce_ex__',\n",
       " '__repr__',\n",
       " '__rfloordiv__',\n",
       " '__rlshift__',\n",
       " '__rmatmul__',\n",
       " '__rmod__',\n",
       " '__rmul__',\n",
       " '__ror__',\n",
       " '__rpow__',\n",
       " '__rrshift__',\n",
       " '__rshift__',\n",
       " '__rsub__',\n",
       " '__rtruediv__',\n",
       " '__rxor__',\n",
       " '__setattr__',\n",
       " '__setitem__',\n",
       " '__setstate__',\n",
       " '__sizeof__',\n",
       " '__str__',\n",
       " '__sub__',\n",
       " '__subclasshook__',\n",
       " '__truediv__',\n",
       " '__xor__',\n",
       " 'all',\n",
       " 'any',\n",
       " 'argmax',\n",
       " 'argmin',\n",
       " 'argpartition',\n",
       " 'argsort',\n",
       " 'astype',\n",
       " 'base',\n",
       " 'byteswap',\n",
       " 'choose',\n",
       " 'clip',\n",
       " 'compress',\n",
       " 'conj',\n",
       " 'conjugate',\n",
       " 'copy',\n",
       " 'ctypes',\n",
       " 'cumprod',\n",
       " 'cumsum',\n",
       " 'data',\n",
       " 'diagonal',\n",
       " 'dot',\n",
       " 'dtype',\n",
       " 'dump',\n",
       " 'dumps',\n",
       " 'fill',\n",
       " 'flags',\n",
       " 'flat',\n",
       " 'flatten',\n",
       " 'getfield',\n",
       " 'imag',\n",
       " 'item',\n",
       " 'itemset',\n",
       " 'itemsize',\n",
       " 'max',\n",
       " 'mean',\n",
       " 'min',\n",
       " 'nbytes',\n",
       " 'ndim',\n",
       " 'newbyteorder',\n",
       " 'nonzero',\n",
       " 'partition',\n",
       " 'prod',\n",
       " 'ptp',\n",
       " 'put',\n",
       " 'ravel',\n",
       " 'real',\n",
       " 'repeat',\n",
       " 'reshape',\n",
       " 'resize',\n",
       " 'round',\n",
       " 'searchsorted',\n",
       " 'setfield',\n",
       " 'setflags',\n",
       " 'shape',\n",
       " 'size',\n",
       " 'sort',\n",
       " 'squeeze',\n",
       " 'std',\n",
       " 'strides',\n",
       " 'sum',\n",
       " 'swapaxes',\n",
       " 'take',\n",
       " 'tobytes',\n",
       " 'tofile',\n",
       " 'tolist',\n",
       " 'tostring',\n",
       " 'trace',\n",
       " 'transpose',\n",
       " 'var',\n",
       " 'view']"
      ]
     },
     "execution_count": 9,
     "metadata": {},
     "output_type": "execute_result"
    }
   ],
   "source": [
    "dir(somenums)"
   ]
  },
  {
   "cell_type": "markdown",
   "metadata": {
    "nbpresent": {
     "id": "9e91b1bd-0a47-496b-a24b-d6ae227f41c2"
    },
    "slideshow": {
     "slide_type": "subslide"
    }
   },
   "source": [
    "or in the notebook, by typing the name of the array followed by a `.` and the tab key:"
   ]
  },
  {
   "cell_type": "code",
   "execution_count": 10,
   "metadata": {},
   "outputs": [
    {
     "data": {
      "text/plain": [
       "2.5"
      ]
     },
     "execution_count": 10,
     "metadata": {},
     "output_type": "execute_result"
    }
   ],
   "source": [
    "somenums.mean()"
   ]
  },
  {
   "cell_type": "markdown",
   "metadata": {
    "collapsed": true,
    "slideshow": {
     "slide_type": "skip"
    }
   },
   "source": [
    "```\n",
    "somenums.\n",
    "```"
   ]
  },
  {
   "cell_type": "markdown",
   "metadata": {
    "nbpresent": {
     "id": "d7bc5d7c-d442-493d-83fc-afb5dd76d578"
    },
    "slideshow": {
     "slide_type": "subslide"
    }
   },
   "source": [
    "Recall that you can also get the documentation for any function or method with a question mark at the end of the name:"
   ]
  },
  {
   "cell_type": "code",
   "execution_count": 11,
   "metadata": {
    "nbpresent": {
     "id": "81548dcd-d049-4617-9b12-004a4dbfa345"
    }
   },
   "outputs": [],
   "source": [
    "somenums.mean?"
   ]
  },
  {
   "cell_type": "markdown",
   "metadata": {
    "nbpresent": {
     "id": "d4a5dc56-de7d-4ea9-b294-46b91f8d20a2"
    },
    "slideshow": {
     "slide_type": "slide"
    }
   },
   "source": [
    "## Multidimensionality, indexing, and slicing"
   ]
  },
  {
   "cell_type": "markdown",
   "metadata": {
    "nbpresent": {
     "id": "fdef92af-640e-4064-a160-2a484cf71d94"
    }
   },
   "source": [
    "`numpy` arrays can be of any dimensionality, not just 1-D. It's common to encounter 2-D arrays, and for illustration we'll look at the position of a particle in three dimensions with time:"
   ]
  },
  {
   "cell_type": "markdown",
   "metadata": {
    "nbpresent": {
     "id": "39622f59-cfd2-4417-af80-47bcea6acdeb"
    },
    "slideshow": {
     "slide_type": "subslide"
    }
   },
   "source": [
    "The `create_position()` function is just a helper function that we will use throughout the notebook in order to quickly generate interesting data."
   ]
  },
  {
   "cell_type": "code",
   "execution_count": 12,
   "metadata": {
    "nbpresent": {
     "id": "5b79705f-adda-4413-8b4c-55973161914c"
    }
   },
   "outputs": [],
   "source": [
    "def create_position(nframes=10**6):\n",
    "    \"\"\"Get array of x, y, and z position of a particle with time.\n",
    "    \n",
    "    Parameters\n",
    "    ----------\n",
    "    nframes: int\n",
    "        number of frames; more frames increases the resolution\n",
    "        of the trajectory, but not its length\n",
    "        \n",
    "    Returns\n",
    "    -------\n",
    "    position : `nframes` x 3 array\n",
    "        (x, y, z) position of the particle with time\n",
    "        \n",
    "    \"\"\"\n",
    "    # generate x, y, z positions\n",
    "    x = np.cos(np.linspace(0, 20, nframes))\n",
    "    y = 3 * np.sin(np.linspace(0, 10, nframes))\n",
    "    z = -2 * np.sin(np.pi * np.linspace(0, 5, nframes))\n",
    "\n",
    "    # put them all in a single array; this gives\n",
    "    # an array with 3 rows and nframes columns\n",
    "    position = np.array([x, y, z])\n",
    "\n",
    "    # transposing puts the array into the [[x, y, z], [x, y, z], ...] shape\n",
    "    return position.transpose()"
   ]
  },
  {
   "cell_type": "markdown",
   "metadata": {
    "slideshow": {
     "slide_type": "skip"
    }
   },
   "source": [
    "(If you are curious what kind of trajectories this function generates, look at the end of this notebook in the [bonus section on even more matplotlib](#BONUS:-Even-more-matplotlib).)"
   ]
  },
  {
   "cell_type": "markdown",
   "metadata": {
    "nbpresent": {
     "id": "a991c7fa-e5c1-4cee-96a6-0e1cdb4e300f"
    },
    "slideshow": {
     "slide_type": "subslide"
    }
   },
   "source": [
    "Let's generate an array `position` to work with:"
   ]
  },
  {
   "cell_type": "code",
   "execution_count": 13,
   "metadata": {
    "nbpresent": {
     "id": "227d7e89-7c8a-41bb-a083-45d38ed56cd6"
    }
   },
   "outputs": [],
   "source": [
    "position = create_position()"
   ]
  },
  {
   "cell_type": "code",
   "execution_count": 14,
   "metadata": {
    "nbpresent": {
     "id": "e80a44c7-1245-4eda-bf0e-2c5945ec30ca"
    },
    "slideshow": {
     "slide_type": "fragment"
    }
   },
   "outputs": [
    {
     "data": {
      "text/plain": [
       "(1000000, 3)"
      ]
     },
     "execution_count": 14,
     "metadata": {},
     "output_type": "execute_result"
    }
   ],
   "source": [
    "position.shape"
   ]
  },
  {
   "cell_type": "markdown",
   "metadata": {
    "nbpresent": {
     "id": "951b1b2e-933a-46d6-a64e-e8fa7dabd94e"
    },
    "slideshow": {
     "slide_type": "subslide"
    }
   },
   "source": [
    "Now say we wanted to examine the position of the particle in the very first frame (row), we could do:"
   ]
  },
  {
   "cell_type": "code",
   "execution_count": 15,
   "metadata": {
    "nbpresent": {
     "id": "c114fd79-889a-43ad-b2f0-6e388b843417"
    }
   },
   "outputs": [
    {
     "data": {
      "text/plain": [
       "array([ 1.,  0., -0.])"
      ]
     },
     "execution_count": 15,
     "metadata": {},
     "output_type": "execute_result"
    }
   ],
   "source": [
    "position[0]"
   ]
  },
  {
   "cell_type": "markdown",
   "metadata": {
    "nbpresent": {
     "id": "121b9d66-eb82-498b-b46e-1b386cfcfd5e"
    }
   },
   "source": [
    "to extract it. Notice that indexing starts at 0, as is the convention in Python."
   ]
  },
  {
   "cell_type": "markdown",
   "metadata": {
    "nbpresent": {
     "id": "3e21ecf9-440d-4c53-9a70-d710f0a659a6"
    },
    "slideshow": {
     "slide_type": "subslide"
    }
   },
   "source": [
    "What about the third frame?"
   ]
  },
  {
   "cell_type": "code",
   "execution_count": 16,
   "metadata": {
    "nbpresent": {
     "id": "631d5771-73a1-418f-85be-280b8c0aff71"
    }
   },
   "outputs": [
    {
     "data": {
      "text/plain": [
       "array([ 9.99999999e-01,  6.00000600e-05, -6.28319159e-05])"
      ]
     },
     "execution_count": 16,
     "metadata": {},
     "output_type": "execute_result"
    }
   ],
   "source": [
    "position[2]"
   ]
  },
  {
   "cell_type": "markdown",
   "metadata": {
    "nbpresent": {
     "id": "30d5ce40-eb25-4e7b-868c-17e5db5fc3e9"
    },
    "slideshow": {
     "slide_type": "fragment"
    }
   },
   "source": [
    "Indices are 0-based. Index 0 is the \"first frame\"."
   ]
  },
  {
   "cell_type": "markdown",
   "metadata": {
    "nbpresent": {
     "id": "c71a0471-a8b4-46b5-af9f-765ef4045064"
    },
    "slideshow": {
     "slide_type": "subslide"
    }
   },
   "source": [
    "What if we wanted a bunch of frames, but only the index 5 through index 72? It should have 68 rows:"
   ]
  },
  {
   "cell_type": "code",
   "execution_count": 17,
   "metadata": {
    "nbpresent": {
     "id": "e84d8d6b-aae1-4e71-8a6a-a0bed4c6031c"
    }
   },
   "outputs": [
    {
     "data": {
      "text/plain": [
       "(68, 3)"
      ]
     },
     "execution_count": 17,
     "metadata": {},
     "output_type": "execute_result"
    }
   ],
   "source": [
    "position[5:73].shape"
   ]
  },
  {
   "cell_type": "markdown",
   "metadata": {
    "nbpresent": {
     "id": "86646ebd-4634-4635-82f8-00d348190de6"
    },
    "slideshow": {
     "slide_type": "fragment"
    }
   },
   "source": [
    "Notice the **slicing** notation. Remember, this should be read as\n",
    "\n",
    "> \"Get each row in the array starting from the row at index 5 up to and not including the row at index 73.\""
   ]
  },
  {
   "cell_type": "markdown",
   "metadata": {
    "slideshow": {
     "slide_type": "subslide"
    }
   },
   "source": [
    "We could even coarse-grain by slicing out every fifth row in this range:"
   ]
  },
  {
   "cell_type": "code",
   "execution_count": 18,
   "metadata": {
    "nbpresent": {
     "id": "82f93b6c-86c5-4ec1-92ab-1074af7ce4d0"
    }
   },
   "outputs": [
    {
     "data": {
      "text/plain": [
       "(14, 3)"
      ]
     },
     "execution_count": 18,
     "metadata": {},
     "output_type": "execute_result"
    }
   ],
   "source": [
    "position[5:73:5].shape"
   ]
  },
  {
   "cell_type": "markdown",
   "metadata": {
    "nbpresent": {
     "id": "fa933f55-974c-4922-babf-b83beb127b85"
    },
    "slideshow": {
     "slide_type": "subslide"
    }
   },
   "source": [
    "Now what if we wanted a specific *element* of the array? Indexing works for this too:"
   ]
  },
  {
   "cell_type": "code",
   "execution_count": 19,
   "metadata": {
    "nbpresent": {
     "id": "800a6b5c-07b1-487f-bc1b-3bcf79ac9801"
    }
   },
   "outputs": [
    {
     "data": {
      "text/plain": [
       "0.0012600012229571492"
      ]
     },
     "execution_count": 19,
     "metadata": {},
     "output_type": "execute_result"
    }
   ],
   "source": [
    "position[42, 1]"
   ]
  },
  {
   "cell_type": "markdown",
   "metadata": {
    "nbpresent": {
     "id": "c0e7150f-4064-462a-986c-03ece026e8cd"
    },
    "slideshow": {
     "slide_type": "fragment"
    }
   },
   "source": [
    "This is the y-position of the frame at index 42. "
   ]
  },
  {
   "cell_type": "markdown",
   "metadata": {
    "slideshow": {
     "slide_type": "subslide"
    }
   },
   "source": [
    "NOTE: **The numpy indexing notation differs from Python indexing of nested lists**, which would look like `positions[42][1]` vs. `positions[42, 1]`."
   ]
  },
  {
   "cell_type": "markdown",
   "metadata": {
    "slideshow": {
     "slide_type": "fragment"
    }
   },
   "source": [
    "Incidentally \"list\" indexing also works for numpy arrays but is less readable and slower, as we can demonstrate with the `%timeit` magic function of IPython/Jupyter:"
   ]
  },
  {
   "cell_type": "code",
   "execution_count": 20,
   "metadata": {
    "nbpresent": {
     "id": "c8533857-f7f0-400d-a446-0d556d9dbb32"
    },
    "slideshow": {
     "slide_type": "fragment"
    }
   },
   "outputs": [
    {
     "name": "stdout",
     "output_type": "stream",
     "text": [
      "135 ns ± 10 ns per loop (mean ± std. dev. of 7 runs, 10000000 loops each)\n"
     ]
    }
   ],
   "source": [
    "%timeit position[42, 1]"
   ]
  },
  {
   "cell_type": "code",
   "execution_count": 21,
   "metadata": {
    "nbpresent": {
     "id": "a370b388-118f-4961-a244-88bc1c27963e"
    },
    "slideshow": {
     "slide_type": "fragment"
    }
   },
   "outputs": [
    {
     "name": "stdout",
     "output_type": "stream",
     "text": [
      "267 ns ± 7.97 ns per loop (mean ± std. dev. of 7 runs, 1000000 loops each)\n"
     ]
    }
   ],
   "source": [
    "%timeit position[42][1]"
   ]
  },
  {
   "cell_type": "markdown",
   "metadata": {
    "nbpresent": {
     "id": "c4cca218-4020-404e-8373-f31faa69705b"
    },
    "slideshow": {
     "slide_type": "skip"
    }
   },
   "source": [
    "The first index/slice corresponds to the first *axis* of the array, which for a 2-D array corresponds to the rows. The second index/slice would then be the columns. If we had a 3-D array, indexing the first axis would yield 2-D arrays. If we had a 4-D array, indexing the first axis would yield 3-D arrays, and so on."
   ]
  },
  {
   "cell_type": "markdown",
   "metadata": {
    "nbpresent": {
     "id": "b46fcb43-1c65-4e34-90fa-9a1df27c1ca2"
    },
    "slideshow": {
     "slide_type": "subslide"
    }
   },
   "source": [
    "### Example: Numpy slicing\n",
    "\n",
    "Obtain an array of the **mean of the x, y positions (separately)** from the frame at **index 10 to the frame at index 43** as a 1-D array."
   ]
  },
  {
   "cell_type": "markdown",
   "metadata": {
    "nbpresent": {
     "id": "e419eacf-062b-402a-80ed-9ee3f640c505"
    },
    "slideshow": {
     "slide_type": "fragment"
    }
   },
   "source": [
    "We can do this by slicing both the first axis (rows) and the second axis (columns), then using the `mean` method of the resulting array. To only take a mean across the rows (a mean for each column), we must specify the `axis=0` keyword."
   ]
  },
  {
   "cell_type": "code",
   "execution_count": 22,
   "metadata": {
    "nbpresent": {
     "id": "29b87dd4-e3d2-4f2d-a71a-9d465440988b"
    },
    "slideshow": {
     "slide_type": "-"
    }
   },
   "outputs": [
    {
     "data": {
      "text/plain": [
       "array([9.99999853e-01, 7.65000753e-04])"
      ]
     },
     "execution_count": 22,
     "metadata": {},
     "output_type": "execute_result"
    }
   ],
   "source": [
    "position[10:42, :2].mean(axis=0)"
   ]
  },
  {
   "cell_type": "markdown",
   "metadata": {
    "nbpresent": {
     "id": "8fabb0f7-b4e5-46c6-bafb-edcdd4fc6ef7"
    },
    "slideshow": {
     "slide_type": "subslide"
    }
   },
   "source": [
    "What if we wanted the smaller of the two numbers only?"
   ]
  },
  {
   "cell_type": "code",
   "execution_count": 23,
   "metadata": {
    "nbpresent": {
     "id": "52651c17-b300-4911-9354-bf3d20f3c53c"
    }
   },
   "outputs": [
    {
     "data": {
      "text/plain": [
       "0.000780000767676743"
      ]
     },
     "execution_count": 23,
     "metadata": {},
     "output_type": "execute_result"
    }
   ],
   "source": [
    "position[10:43, :2].mean(axis=0).min()"
   ]
  },
  {
   "cell_type": "markdown",
   "metadata": {
    "nbpresent": {
     "id": "3997d4fb-9161-4b78-a322-b7dfc886d815"
    },
    "slideshow": {
     "slide_type": "fragment"
    }
   },
   "source": [
    "Since slicing and methods of arrays often yield arrays, you can chain operations in this way.\n",
    "\n",
    "This is a *pythonic* way to work with these objects."
   ]
  },
  {
   "cell_type": "markdown",
   "metadata": {
    "nbpresent": {
     "id": "cbee57fd-026f-4486-b3df-d92711542ff9"
    },
    "slideshow": {
     "slide_type": "slide"
    }
   },
   "source": [
    "### ADVANCED: Fancy and boolean indexing"
   ]
  },
  {
   "cell_type": "markdown",
   "metadata": {
    "nbpresent": {
     "id": "a7af8474-9037-43d6-91df-6d5608ab23f5"
    }
   },
   "source": [
    "It's also possible to index arrays with lists of indices to select out; these can be repeated and in any order."
   ]
  },
  {
   "cell_type": "code",
   "execution_count": 24,
   "metadata": {
    "nbpresent": {
     "id": "bbeba908-a190-481b-ba12-13edc793691b"
    }
   },
   "outputs": [
    {
     "data": {
      "text/plain": [
       "array([[ 9.99999999e-01,  6.00000600e-05, -6.28319159e-05],\n",
       "       [ 9.99999997e-01,  1.20000120e-04, -1.25663832e-04],\n",
       "       [ 9.99999990e-01,  2.10000210e-04, -2.19911705e-04],\n",
       "       [ 4.08082062e-01, -1.63206333e+00, -1.22464680e-15],\n",
       "       [ 9.99999999e-01,  6.00000600e-05, -6.28319159e-05]])"
      ]
     },
     "execution_count": 24,
     "metadata": {},
     "output_type": "execute_result"
    }
   ],
   "source": [
    "position[[2, 4, 7, -1, 2]]"
   ]
  },
  {
   "cell_type": "markdown",
   "metadata": {
    "nbpresent": {
     "id": "9ae6df64-7316-44ed-818a-bf0b094b2cfc"
    },
    "slideshow": {
     "slide_type": "subslide"
    }
   },
   "source": [
    "We can also use arrays of booleans to get back arrays with items for which `True` was the value in the boolean array used:"
   ]
  },
  {
   "cell_type": "code",
   "execution_count": 25,
   "metadata": {
    "nbpresent": {
     "id": "29c5aa57-bfae-4fa7-8f30-944736fe788e"
    }
   },
   "outputs": [
    {
     "data": {
      "text/plain": [
       "array([False, False, False, ..., False, False, False])"
      ]
     },
     "execution_count": 25,
     "metadata": {},
     "output_type": "execute_result"
    }
   ],
   "source": [
    "(position[:, :2] > 2).any(axis=1)"
   ]
  },
  {
   "cell_type": "code",
   "execution_count": null,
   "metadata": {},
   "outputs": [],
   "source": []
  },
  {
   "cell_type": "markdown",
   "metadata": {
    "nbpresent": {
     "id": "9f1aff08-9bf4-49ea-931f-3f910267498c"
    },
    "slideshow": {
     "slide_type": "fragment"
    }
   },
   "source": [
    "We can use this array to get only the rows for which either the x or y position is greater than 2:"
   ]
  },
  {
   "cell_type": "code",
   "execution_count": 26,
   "metadata": {
    "nbpresent": {
     "id": "bf7d995f-2aed-49e3-95d3-8406e635aaa5"
    }
   },
   "outputs": [
    {
     "data": {
      "text/plain": [
       "(336428, 3)"
      ]
     },
     "execution_count": 26,
     "metadata": {},
     "output_type": "execute_result"
    }
   ],
   "source": [
    "position[(position[:,:2] > 2).any(axis=1)].shape"
   ]
  },
  {
   "cell_type": "markdown",
   "metadata": {
    "nbpresent": {
     "id": "098c28e0-2455-4935-9a36-a1918e15a5be"
    },
    "slideshow": {
     "slide_type": "fragment"
    }
   },
   "source": [
    "Boolean arrays are useful for filtering data for rows of interest."
   ]
  },
  {
   "cell_type": "markdown",
   "metadata": {
    "nbpresent": {
     "id": "34bf88ee-00ae-4de4-ad02-d28ebb342f4e"
    },
    "slideshow": {
     "slide_type": "skip"
    }
   },
   "source": [
    "**Technical note**: fancy and boolean indexing like this generally gives back a new array instead of a *view* to the existing one. Slicing, by contrast, always gives a view. This matters when using indexing or slicing to alter the values in an array."
   ]
  },
  {
   "cell_type": "markdown",
   "metadata": {
    "nbpresent": {
     "id": "cf8c9bd9-a663-4bf4-b243-84c6aef9e91a"
    },
    "slideshow": {
     "slide_type": "slide"
    }
   },
   "source": [
    "## Array arithmetic "
   ]
  },
  {
   "cell_type": "markdown",
   "metadata": {
    "nbpresent": {
     "id": "9f2fdb72-743c-45da-a0b2-da8c75ea4f1c"
    }
   },
   "source": [
    "You can add, subtract, multiply, divide arrays, raise them to a power, and generally do all the arithmetic that you do with \"normal\" scalar data types (i.e., numbers).\n",
    "```\n",
    "a + b\n",
    "a - b\n",
    "a * b\n",
    "a / b\n",
    "a ** b\n",
    "```"
   ]
  },
  {
   "cell_type": "markdown",
   "metadata": {
    "slideshow": {
     "slide_type": "subslide"
    }
   },
   "source": [
    "Let's start with simple example arrays, `ones` and `counts`:"
   ]
  },
  {
   "cell_type": "code",
   "execution_count": 27,
   "metadata": {
    "nbpresent": {
     "id": "67b255c3-3551-4a29-acb6-e52b86b6bbd8"
    },
    "slideshow": {
     "slide_type": "fragment"
    }
   },
   "outputs": [
    {
     "data": {
      "text/plain": [
       "array([[1., 1., 1.],\n",
       "       [1., 1., 1.],\n",
       "       [1., 1., 1.],\n",
       "       [1., 1., 1.]])"
      ]
     },
     "execution_count": 27,
     "metadata": {},
     "output_type": "execute_result"
    }
   ],
   "source": [
    "ones = np.ones((4, 3))\n",
    "ones"
   ]
  },
  {
   "cell_type": "code",
   "execution_count": 28,
   "metadata": {
    "nbpresent": {
     "id": "7bcf856e-e11a-4512-98f2-40594c2b32c2"
    }
   },
   "outputs": [
    {
     "data": {
      "text/plain": [
       "array([[ 0,  1,  2],\n",
       "       [ 3,  4,  5],\n",
       "       [ 6,  7,  8],\n",
       "       [ 9, 10, 11]])"
      ]
     },
     "execution_count": 28,
     "metadata": {},
     "output_type": "execute_result"
    }
   ],
   "source": [
    "counts = np.arange(4*3).reshape(4, 3)\n",
    "counts"
   ]
  },
  {
   "cell_type": "markdown",
   "metadata": {
    "nbpresent": {
     "id": "ad57e9c4-41d1-4453-84ac-0957277db2c4"
    },
    "slideshow": {
     "slide_type": "subslide"
    }
   },
   "source": [
    "**Addition** gives"
   ]
  },
  {
   "cell_type": "code",
   "execution_count": 29,
   "metadata": {
    "nbpresent": {
     "id": "ee3cc765-9a8d-49fb-8ad8-24fd1df09dc1"
    }
   },
   "outputs": [
    {
     "data": {
      "text/plain": [
       "array([[ 1.,  2.,  3.],\n",
       "       [ 4.,  5.,  6.],\n",
       "       [ 7.,  8.,  9.],\n",
       "       [10., 11., 12.]])"
      ]
     },
     "execution_count": 29,
     "metadata": {},
     "output_type": "execute_result"
    }
   ],
   "source": [
    "added = counts + ones\n",
    "added"
   ]
  },
  {
   "cell_type": "markdown",
   "metadata": {
    "nbpresent": {
     "id": "03e57770-a1ca-411f-be65-b95edc1741ad"
    },
    "slideshow": {
     "slide_type": "fragment"
    }
   },
   "source": [
    "The addition is carried out **element-wise**:\n",
    "```\n",
    "added[i, j] = counts[i, j] + ones[i, j]\n",
    "```\n",
    "for the indices `0 ≤ i < 4` and `0 ≤ j < 3`."
   ]
  },
  {
   "cell_type": "markdown",
   "metadata": {
    "nbpresent": {
     "id": "6f89f28f-f901-433b-95c9-90acca333379"
    },
    "slideshow": {
     "slide_type": "subslide"
    }
   },
   "source": [
    "Similarly, **subtraction** ..."
   ]
  },
  {
   "cell_type": "code",
   "execution_count": 30,
   "metadata": {
    "nbpresent": {
     "id": "a8e42b92-4157-495d-a809-1f29ef706efa"
    }
   },
   "outputs": [
    {
     "data": {
      "text/plain": [
       "array([[-1.,  0.,  1.],\n",
       "       [ 2.,  3.,  4.],\n",
       "       [ 5.,  6.,  7.],\n",
       "       [ 8.,  9., 10.]])"
      ]
     },
     "execution_count": 30,
     "metadata": {},
     "output_type": "execute_result"
    }
   ],
   "source": [
    "counts - ones"
   ]
  },
  {
   "cell_type": "markdown",
   "metadata": {
    "nbpresent": {
     "id": "e980df30-3043-4bdf-bb65-d468f1a9382e"
    },
    "slideshow": {
     "slide_type": "subslide"
    }
   },
   "source": [
    "**multiplication** (and **division**)"
   ]
  },
  {
   "cell_type": "code",
   "execution_count": 31,
   "metadata": {
    "nbpresent": {
     "id": "ce528527-d491-4de3-bf37-99f62a51decf"
    }
   },
   "outputs": [
    {
     "data": {
      "text/plain": [
       "array([[ 0.,  1.,  2.],\n",
       "       [ 3.,  4.,  5.],\n",
       "       [ 6.,  7.,  8.],\n",
       "       [ 9., 10., 11.]])"
      ]
     },
     "execution_count": 31,
     "metadata": {},
     "output_type": "execute_result"
    }
   ],
   "source": [
    "counts * ones"
   ]
  },
  {
   "cell_type": "markdown",
   "metadata": {
    "nbpresent": {
     "id": "d05c4325-52f9-47a8-9bac-259e41506ab5"
    },
    "slideshow": {
     "slide_type": "subslide"
    }
   },
   "source": [
    "**Arithmetic with a scalar** (number) will *also* be performed **element-wise**. \n",
    "\n",
    "For example, multiplication:"
   ]
  },
  {
   "cell_type": "code",
   "execution_count": 32,
   "metadata": {
    "nbpresent": {
     "id": "df2836bd-bca3-4d72-a46f-76be1e78664b"
    },
    "scrolled": true
   },
   "outputs": [
    {
     "data": {
      "text/plain": [
       "array([[2., 2., 2.],\n",
       "       [2., 2., 2.],\n",
       "       [2., 2., 2.],\n",
       "       [2., 2., 2.]])"
      ]
     },
     "execution_count": 32,
     "metadata": {},
     "output_type": "execute_result"
    }
   ],
   "source": [
    "twos = 2 * ones\n",
    "twos"
   ]
  },
  {
   "cell_type": "markdown",
   "metadata": {
    "nbpresent": {
     "id": "55b483c5-d411-4790-8538-e3c6b1307034"
    },
    "slideshow": {
     "slide_type": "subslide"
    }
   },
   "source": [
    "or subtraction with a scalar"
   ]
  },
  {
   "cell_type": "code",
   "execution_count": 33,
   "metadata": {
    "nbpresent": {
     "id": "ea4f90ca-de61-4c33-a27a-6943f6826838"
    }
   },
   "outputs": [
    {
     "data": {
      "text/plain": [
       "array([[-5, -4, -3],\n",
       "       [-2, -1,  0],\n",
       "       [ 1,  2,  3],\n",
       "       [ 4,  5,  6]])"
      ]
     },
     "execution_count": 33,
     "metadata": {},
     "output_type": "execute_result"
    }
   ],
   "source": [
    "counts - 5"
   ]
  },
  {
   "cell_type": "markdown",
   "metadata": {
    "nbpresent": {
     "id": "fe0af535-0951-4f04-bdb6-b65718657413"
    },
    "slideshow": {
     "slide_type": "subslide"
    }
   },
   "source": [
    "**Raising to a power** also operates on arrays:"
   ]
  },
  {
   "cell_type": "code",
   "execution_count": 34,
   "metadata": {
    "nbpresent": {
     "id": "ef93e4e5-f34a-4ed6-b0ae-4965ad691360"
    }
   },
   "outputs": [
    {
     "data": {
      "text/plain": [
       "array([[  0.,   1.,   4.],\n",
       "       [  9.,  16.,  25.],\n",
       "       [ 36.,  49.,  64.],\n",
       "       [ 81., 100., 121.]])"
      ]
     },
     "execution_count": 34,
     "metadata": {},
     "output_type": "execute_result"
    }
   ],
   "source": [
    "counts**twos"
   ]
  },
  {
   "cell_type": "markdown",
   "metadata": {
    "nbpresent": {
     "id": "e912b1e2-5196-44db-9902-ea00ccd99694"
    },
    "slideshow": {
     "slide_type": "subslide"
    }
   },
   "source": [
    "You can even raise a scalar by an array and get back an array:"
   ]
  },
  {
   "cell_type": "code",
   "execution_count": 35,
   "metadata": {
    "nbpresent": {
     "id": "84ddc074-1d68-4c0e-8513-de4b9de55b58"
    }
   },
   "outputs": [
    {
     "data": {
      "text/plain": [
       "array([[25., 25., 25.],\n",
       "       [25., 25., 25.],\n",
       "       [25., 25., 25.],\n",
       "       [25., 25., 25.]])"
      ]
     },
     "execution_count": 35,
     "metadata": {},
     "output_type": "execute_result"
    }
   ],
   "source": [
    "5**twos"
   ]
  },
  {
   "cell_type": "markdown",
   "metadata": {
    "nbpresent": {
     "id": "fb11a4ce-0f56-4b5f-8588-d158b83eaaa3"
    },
    "slideshow": {
     "slide_type": "fragment"
    }
   },
   "source": [
    "Numpy contains the [np.power()](https://docs.scipy.org/doc/numpy/reference/generated/numpy.power.html) function that provides more control than the standard `**` operator, but for most cases, it just gives the same functionality:"
   ]
  },
  {
   "cell_type": "code",
   "execution_count": 36,
   "metadata": {
    "nbpresent": {
     "id": "57a4018a-8091-4a2f-a4bd-5a2b439effc9"
    }
   },
   "outputs": [
    {
     "data": {
      "text/plain": [
       "array([[  0.,   1.,   4.],\n",
       "       [  9.,  16.,  25.],\n",
       "       [ 36.,  49.,  64.],\n",
       "       [ 81., 100., 121.]])"
      ]
     },
     "execution_count": 36,
     "metadata": {},
     "output_type": "execute_result"
    }
   ],
   "source": [
    "np.power(counts, twos)"
   ]
  },
  {
   "cell_type": "markdown",
   "metadata": {
    "nbpresent": {
     "id": "2cde2632-5fe3-452f-b518-d0c681936c02"
    },
    "slideshow": {
     "slide_type": "subslide"
    }
   },
   "source": [
    "**REMINDER**:\n",
    "\n",
    "Note that multiplication between two arrays is **not** the same as matrix multiplcation or taking inner (\"dot\") products of vectors. **Arithmetic operations are element-wise.**"
   ]
  },
  {
   "cell_type": "code",
   "execution_count": 37,
   "metadata": {
    "nbpresent": {
     "id": "4e021e17-6b85-4f50-87d9-437967b2be48"
    },
    "slideshow": {
     "slide_type": "fragment"
    }
   },
   "outputs": [
    {
     "data": {
      "text/plain": [
       "array([  0,  -5, -10])"
      ]
     },
     "execution_count": 37,
     "metadata": {},
     "output_type": "execute_result"
    }
   ],
   "source": [
    "np.array([0, -1, 10]) * np.array([3, 5, -1])"
   ]
  },
  {
   "cell_type": "markdown",
   "metadata": {
    "nbpresent": {
     "id": "17249218-8e60-4c07-9656-45cfcb657c5e"
    },
    "slideshow": {
     "slide_type": "fragment"
    }
   },
   "source": [
    " But there is a method for doing matrix multiplication:"
   ]
  },
  {
   "cell_type": "code",
   "execution_count": 38,
   "metadata": {
    "nbpresent": {
     "id": "93844a77-26ca-4a16-bf2c-fb3273237cad"
    }
   },
   "outputs": [
    {
     "data": {
      "text/plain": [
       "-15"
      ]
     },
     "execution_count": 38,
     "metadata": {},
     "output_type": "execute_result"
    }
   ],
   "source": [
    "np.dot(np.array([0, -1, 10]), np.array([3, 5, -1]))"
   ]
  },
  {
   "cell_type": "markdown",
   "metadata": {
    "nbpresent": {
     "id": "576de32a-4c9f-4d02-b2ac-f7ec5ca30b91"
    },
    "slideshow": {
     "slide_type": "fragment"
    }
   },
   "source": [
    "And more linear algebra functions can be found in the [`numpy.linalg`](https://docs.scipy.org/doc/numpy/reference/routines.linalg.html) module."
   ]
  },
  {
   "cell_type": "markdown",
   "metadata": {
    "nbpresent": {
     "id": "de824548-739d-414f-8e47-6fd5e34b1b8c"
    },
    "slideshow": {
     "slide_type": "slide"
    }
   },
   "source": [
    "## Thinking in arrays "
   ]
  },
  {
   "cell_type": "markdown",
   "metadata": {
    "nbpresent": {
     "id": "92e3e357-6fd7-4583-9788-7265e035f87b"
    }
   },
   "source": [
    "Say we wanted to displace our particle a full 5 units in each of the x, y, and z directions. \n",
    "\n",
    "Let's use our 1 Million positions again:"
   ]
  },
  {
   "cell_type": "code",
   "execution_count": 39,
   "metadata": {
    "nbpresent": {
     "id": "710c616a-aced-4078-a822-a44cf2f4764c"
    }
   },
   "outputs": [],
   "source": [
    "position = create_position()"
   ]
  },
  {
   "cell_type": "markdown",
   "metadata": {
    "slideshow": {
     "slide_type": "subslide"
    }
   },
   "source": [
    "You might be used to writing nested loops like this one to achieve this:"
   ]
  },
  {
   "cell_type": "code",
   "execution_count": 40,
   "metadata": {
    "nbpresent": {
     "id": "e77d6d0e-1d62-407a-b78c-15a28ed46fdd"
    },
    "scrolled": true
   },
   "outputs": [
    {
     "name": "stdout",
     "output_type": "stream",
     "text": [
      "CPU times: user 2.38 s, sys: 39.4 ms, total: 2.42 s\n",
      "Wall time: 2.65 s\n"
     ]
    }
   ],
   "source": [
    "%%time\n",
    "for i in range(position.shape[0]):\n",
    "    for j in range(position.shape[1]):\n",
    "        position[i, j] += 5"
   ]
  },
  {
   "cell_type": "markdown",
   "metadata": {},
   "source": [
    "(We use the `%%time` magic to get the time for a whole code block.)"
   ]
  },
  {
   "cell_type": "markdown",
   "metadata": {
    "nbpresent": {
     "id": "630e5ab9-613a-4aa5-9637-99664e91ce00"
    },
    "slideshow": {
     "slide_type": "subslide"
    }
   },
   "source": [
    "But one of the main points of `numpy` is performance, so we'd do better to spend as little time in an operation running through the Python interpreter, which is the case in the above loop. Instead we can do:"
   ]
  },
  {
   "cell_type": "code",
   "execution_count": 41,
   "metadata": {
    "nbpresent": {
     "id": "905d9f73-29da-437f-96e3-5647ff9db113"
    }
   },
   "outputs": [],
   "source": [
    "position = create_position()"
   ]
  },
  {
   "cell_type": "code",
   "execution_count": 42,
   "metadata": {
    "nbpresent": {
     "id": "b0d67ee2-9a4d-4b69-a82a-529e6b343c01"
    },
    "scrolled": false
   },
   "outputs": [
    {
     "name": "stdout",
     "output_type": "stream",
     "text": [
      "CPU times: user 4.53 ms, sys: 1.24 ms, total: 5.76 ms\n",
      "Wall time: 4.25 ms\n"
     ]
    }
   ],
   "source": [
    "%%time\n",
    "position += 5"
   ]
  },
  {
   "cell_type": "markdown",
   "metadata": {
    "slideshow": {
     "slide_type": "fragment"
    }
   },
   "source": [
    "It is also *much simpler* to read!"
   ]
  },
  {
   "cell_type": "markdown",
   "metadata": {
    "nbpresent": {
     "id": "ff052044-0889-488f-8df9-8fa36fd97c1d"
    },
    "slideshow": {
     "slide_type": "subslide"
    }
   },
   "source": [
    "Speed-up for using array operations instead of `for` loops:"
   ]
  },
  {
   "cell_type": "code",
   "execution_count": 63,
   "metadata": {
    "nbpresent": {
     "id": "43624866-6573-413b-ac88-96d7b2219054"
    }
   },
   "outputs": [
    {
     "data": {
      "text/plain": [
       "525.3863134657836"
      ]
     },
     "execution_count": 63,
     "metadata": {},
     "output_type": "execute_result"
    }
   ],
   "source": [
    "2.38 / 4.53e-3"
   ]
  },
  {
   "cell_type": "markdown",
   "metadata": {
    "collapsed": true,
    "nbpresent": {
     "id": "8f72d90a-89a8-4408-9156-16a819b2e373"
    },
    "slideshow": {
     "slide_type": "fragment"
    }
   },
   "source": [
    "On my laptop the difference in speed is about a factor of 500 (you might see speed-ups on the order of 100 to 1000). The larger the array the more pronounced the difference in speed will be, too. The general rule when using `numpy` is to try and put what you're trying to do in terms of operations on whole arrays (or slices of them). \n",
    "\n",
    "**Avoid Python loops unless absolutely necessary.**"
   ]
  },
  {
   "cell_type": "markdown",
   "metadata": {
    "nbpresent": {
     "id": "63817336-a2e3-4d24-8002-63fbde250615"
    },
    "slideshow": {
     "slide_type": "slide"
    }
   },
   "source": [
    "### ADVANCED: array arithmetic with *broadcasting*\n"
   ]
  },
  {
   "cell_type": "markdown",
   "metadata": {
    "nbpresent": {
     "id": "c9b56763-0710-4cbf-a9c3-8f8a43b594ae"
    }
   },
   "source": [
    "[Broadcasting](https://docs.scipy.org/doc/numpy/user/basics.broadcasting.html) is a powerful capability of numpy to perform arithmetic between a smaller array (or scalar) and a larger array in such a way that the smaller array is \"copied\" or \"stretched\" as often as needed to \"cover\" the bigger array."
   ]
  },
  {
   "cell_type": "markdown",
   "metadata": {
    "nbpresent": {
     "id": "b1437fc4-982c-40f8-97ad-ac41181dfb93"
    },
    "slideshow": {
     "slide_type": "subslide"
    }
   },
   "source": [
    "For example, the scalar multiplication between the array `bigger`"
   ]
  },
  {
   "cell_type": "code",
   "execution_count": 44,
   "metadata": {
    "nbpresent": {
     "id": "eea66180-b784-49f0-9cbe-8ad464c8b660"
    }
   },
   "outputs": [
    {
     "data": {
      "text/plain": [
       "array([0, 1, 2, 3])"
      ]
     },
     "execution_count": 44,
     "metadata": {},
     "output_type": "execute_result"
    }
   ],
   "source": [
    "bigger = np.arange(4)\n",
    "bigger"
   ]
  },
  {
   "cell_type": "markdown",
   "metadata": {
    "nbpresent": {
     "id": "65110f98-2ad0-4ef9-b6a3-95d7b8d77819"
    }
   },
   "source": [
    "and the scalar 5"
   ]
  },
  {
   "cell_type": "code",
   "execution_count": 45,
   "metadata": {
    "nbpresent": {
     "id": "aaf3307d-fce2-4888-b7e8-887363bf6242"
    },
    "slideshow": {
     "slide_type": "fragment"
    }
   },
   "outputs": [
    {
     "data": {
      "text/plain": [
       "array([ 0,  5, 10, 15])"
      ]
     },
     "execution_count": 45,
     "metadata": {},
     "output_type": "execute_result"
    }
   ],
   "source": [
    "bigger * 5"
   ]
  },
  {
   "cell_type": "markdown",
   "metadata": {
    "nbpresent": {
     "id": "9404176b-5038-492a-9525-6b7d26732565"
    },
    "slideshow": {
     "slide_type": "subslide"
    }
   },
   "source": [
    "really does the following (element-wise!) calculation:"
   ]
  },
  {
   "cell_type": "code",
   "execution_count": 46,
   "metadata": {
    "nbpresent": {
     "id": "dd83c608-c856-483b-a843-872994bba257"
    }
   },
   "outputs": [
    {
     "data": {
      "text/plain": [
       "array([ 0,  5, 10, 15])"
      ]
     },
     "execution_count": 46,
     "metadata": {},
     "output_type": "execute_result"
    }
   ],
   "source": [
    "bigger * np.array([5, 5, 5, 5]) "
   ]
  },
  {
   "cell_type": "markdown",
   "metadata": {
    "nbpresent": {
     "id": "0950c192-4546-4e73-90a9-1c329b71320f"
    },
    "slideshow": {
     "slide_type": "fragment"
    }
   },
   "source": [
    "i.e., the scalar 5 was *stretched* into an array of the appropriate shape (length 4) to allow the element-wise operation with the length 4 array `bigger`.\n",
    "\n",
    "This stretching or *broadcasting* is performed automatically by numpy (and is fast)."
   ]
  },
  {
   "cell_type": "markdown",
   "metadata": {
    "nbpresent": {
     "id": "9d718f09-b5ab-4f3b-ac11-5573a5f951a3"
    },
    "slideshow": {
     "slide_type": "subslide"
    }
   },
   "source": [
    "Broadcasting also works with higher dimensional arrays. For example, add `[1, 0, -1]` to our `counts` array so that each row is updated:"
   ]
  },
  {
   "cell_type": "code",
   "execution_count": 47,
   "metadata": {
    "nbpresent": {
     "id": "04be6524-c5f8-421a-82cf-7f90cc8d257a"
    }
   },
   "outputs": [
    {
     "data": {
      "text/plain": [
       "array([[ 0,  1,  2],\n",
       "       [ 3,  4,  5],\n",
       "       [ 6,  7,  8],\n",
       "       [ 9, 10, 11]])"
      ]
     },
     "execution_count": 47,
     "metadata": {},
     "output_type": "execute_result"
    }
   ],
   "source": [
    "counts"
   ]
  },
  {
   "cell_type": "code",
   "execution_count": 48,
   "metadata": {
    "nbpresent": {
     "id": "42b8d762-c521-4b5a-a3b5-d2d817b86de0"
    },
    "slideshow": {
     "slide_type": "fragment"
    }
   },
   "outputs": [
    {
     "data": {
      "text/plain": [
       "array([[ 1,  1,  1],\n",
       "       [ 4,  4,  4],\n",
       "       [ 7,  7,  7],\n",
       "       [10, 10, 10]])"
      ]
     },
     "execution_count": 48,
     "metadata": {},
     "output_type": "execute_result"
    }
   ],
   "source": [
    "counts + np.array([1, 0, -1])"
   ]
  },
  {
   "cell_type": "markdown",
   "metadata": {
    "nbpresent": {
     "id": "f17f99b4-8cc6-453f-99eb-38f206faaf95"
    },
    "slideshow": {
     "slide_type": "subslide"
    }
   },
   "source": [
    "**Example:**\n",
    "Rescale (multiply) the y-positions by 2 and displace the x and z positions by 3 and -100, respectively."
   ]
  },
  {
   "cell_type": "markdown",
   "metadata": {
    "nbpresent": {
     "id": "76c3a5c8-9c4d-4df6-b518-01d317ea0a17"
    },
    "slideshow": {
     "slide_type": "fragment"
    }
   },
   "source": [
    "There are a lot of ways to do this, but the most succinct way is to take advantage of *broadcasting*. That is, doing:"
   ]
  },
  {
   "cell_type": "code",
   "execution_count": 49,
   "metadata": {
    "nbpresent": {
     "id": "145efbb0-e742-4017-9414-073f2317c9b2"
    }
   },
   "outputs": [
    {
     "data": {
      "text/plain": [
       "array([[ 1.00000000e+00,  0.00000000e+00, -0.00000000e+00],\n",
       "       [ 1.00000000e+00,  3.00000300e-05, -3.14159580e-05],\n",
       "       [ 9.99999999e-01,  6.00000600e-05, -6.28319159e-05]])"
      ]
     },
     "execution_count": 49,
     "metadata": {},
     "output_type": "execute_result"
    }
   ],
   "source": [
    "position = create_position()\n",
    "position[:3]"
   ]
  },
  {
   "cell_type": "code",
   "execution_count": 50,
   "metadata": {
    "nbpresent": {
     "id": "8192f00a-8fcc-42d8-9d4c-20f6ff96914f"
    },
    "slideshow": {
     "slide_type": "fragment"
    }
   },
   "outputs": [],
   "source": [
    "position = position * np.array([1, 2, 1]) + np.array([3, 0, -100])"
   ]
  },
  {
   "cell_type": "code",
   "execution_count": 51,
   "metadata": {},
   "outputs": [
    {
     "data": {
      "text/plain": [
       "array([[ 4.00000000e+00,  0.00000000e+00, -1.00000000e+02],\n",
       "       [ 4.00000000e+00,  6.00000600e-05, -1.00000031e+02],\n",
       "       [ 4.00000000e+00,  1.20000120e-04, -1.00000063e+02]])"
      ]
     },
     "execution_count": 51,
     "metadata": {},
     "output_type": "execute_result"
    }
   ],
   "source": [
    "position[:3]"
   ]
  },
  {
   "cell_type": "markdown",
   "metadata": {
    "nbpresent": {
     "id": "3a3c12f8-2841-4882-b15b-6db6b5b7d53e"
    }
   },
   "source": [
    "`numpy` will take the 3-element, 1-D arrays here and apply them to whole columns in `position`. Note that we already took advantage of broadcasting rules in a way, since multiplying an array by a scalar is the same as multiplying the array by an array of equal shape with all elements equal to the scalar."
   ]
  },
  {
   "cell_type": "markdown",
   "metadata": {
    "nbpresent": {
     "id": "10128b94-209c-4c65-bdcb-9596bb9051c3"
    },
    "slideshow": {
     "slide_type": "slide"
    }
   },
   "source": [
    "## Universal functions (\"ufuncs\") "
   ]
  },
  {
   "cell_type": "markdown",
   "metadata": {
    "nbpresent": {
     "id": "38bbd3e0-cb01-4d09-a035-d898be93ec0b"
    }
   },
   "source": [
    "*Universal functions* (or [ufuncs](https://docs.scipy.org/doc/numpy/reference/ufuncs.html) for short) are functions that **operate on whole arrays** in an element-wise fashion and return an array of the same shape as the input array."
   ]
  },
  {
   "cell_type": "markdown",
   "metadata": {
    "nbpresent": {
     "id": "ff28fea2-402d-4aa1-bc24-ee3e667e3995"
    },
    "slideshow": {
     "slide_type": "subslide"
    }
   },
   "source": [
    "Compare what we did so far in order to plot the sine function: We had to explicitly loop over all `x` values to create a list of `y` values:"
   ]
  },
  {
   "cell_type": "code",
   "execution_count": 52,
   "metadata": {
    "nbpresent": {
     "id": "8744edbb-9e0e-495d-b759-951da08afac3"
    }
   },
   "outputs": [],
   "source": [
    "import math\n",
    "\n",
    "a, b, num = -4*math.pi, 4*math.pi, 100\n",
    "X = [(b-a)/(num-1)*i + a for i in range(100)]  # our phy194.linspace()\n",
    "\n",
    "Y = [math.sin(x) for x in X]"
   ]
  },
  {
   "cell_type": "code",
   "execution_count": 53,
   "metadata": {
    "nbpresent": {
     "id": "343170f8-a4f0-41fe-9cfb-f92ab60fb23a"
    },
    "slideshow": {
     "slide_type": "subslide"
    }
   },
   "outputs": [],
   "source": [
    "import matplotlib.pyplot as plt\n",
    "%matplotlib inline"
   ]
  },
  {
   "cell_type": "code",
   "execution_count": 54,
   "metadata": {},
   "outputs": [
    {
     "data": {
      "text/plain": [
       "[<matplotlib.lines.Line2D at 0x1245bed30>]"
      ]
     },
     "execution_count": 54,
     "metadata": {},
     "output_type": "execute_result"
    },
    {
     "data": {
      "image/png": "[encoded data removed]",
      "text/plain": [
       "<Figure size 432x288 with 1 Axes>"
      ]
     },
     "metadata": {
      "needs_background": "light"
     },
     "output_type": "display_data"
    }
   ],
   "source": [
    "plt.plot(X, Y)"
   ]
  },
  {
   "cell_type": "markdown",
   "metadata": {
    "nbpresent": {
     "id": "45b3fc23-94fe-4cd5-b4e5-dbdea141103f"
    },
    "slideshow": {
     "slide_type": "subslide"
    }
   },
   "source": [
    "With **numpy** this the code gets a lot easier (and more readable!):"
   ]
  },
  {
   "cell_type": "code",
   "execution_count": 55,
   "metadata": {
    "nbpresent": {
     "id": "65fec346-965f-472c-a342-98cc49949067"
    }
   },
   "outputs": [],
   "source": [
    "X = np.linspace(-4*np.pi, 4*np.pi, num=100)    # use numpy's linspace() function!\n",
    "Y = np.sin(X)"
   ]
  },
  {
   "cell_type": "markdown",
   "metadata": {
    "nbpresent": {
     "id": "d5d67bae-8fd8-4cb8-b367-d7b3a751a506"
    },
    "slideshow": {
     "slide_type": "fragment"
    }
   },
   "source": [
    "Note how [`np.sin()`](https://docs.scipy.org/doc/numpy/reference/generated/numpy.sin.html) works: it takes the **array** `X` as input, **operates on it element-wise** and returns a new **array** `Y`. This looks exactly like the mathematics…\n",
    "$$\n",
    "y = \\sin(x)\n",
    "$$\n",
    "It does not get simpler and more readable."
   ]
  },
  {
   "cell_type": "code",
   "execution_count": 56,
   "metadata": {
    "nbpresent": {
     "id": "3d320c46-1ba1-4383-8c18-9617c19458a9"
    },
    "scrolled": true,
    "slideshow": {
     "slide_type": "subslide"
    }
   },
   "outputs": [
    {
     "data": {
      "text/plain": [
       "[<matplotlib.lines.Line2D at 0x124732ef0>]"
      ]
     },
     "execution_count": 56,
     "metadata": {},
     "output_type": "execute_result"
    },
    {
     "data": {
      "image/png": "[encoded data removed]",
      "text/plain": [
       "<Figure size 432x288 with 1 Axes>"
      ]
     },
     "metadata": {
      "needs_background": "light"
     },
     "output_type": "display_data"
    }
   ],
   "source": [
    "plt.plot(X, Y)"
   ]
  },
  {
   "cell_type": "markdown",
   "metadata": {
    "nbpresent": {
     "id": "5618e5ac-2d2a-441f-bec6-71619a854546"
    },
    "slideshow": {
     "slide_type": "subslide"
    }
   },
   "source": [
    "### ufuncs summary\n",
    "\n",
    "* ufuncs perform **element-wise** operations on arrays\n",
    "* To get ufuncs, you need to use functions from the `numpy` module\n",
    "  * functions from `math` are *not* able to operate on arrays\n",
    "  * write your own ufuncs – this is easy when you can build them from existing ufuncs with arithmetic\n",
    "* Use ufuncs whenever you can:\n",
    "  * fast\n",
    "  * readable (which means fewer opportunities to make mistakes and easier to debug)  \n",
    "* Use `np.linspace()` and `np.arange()` to quickly create arrays of values to operate on.\n"
   ]
  },
  {
   "cell_type": "markdown",
   "metadata": {
    "nbpresent": {
     "id": "f9974c09-6cf3-445e-b1cf-9b572d622ae4"
    },
    "slideshow": {
     "slide_type": "slide"
    }
   },
   "source": [
    "# BONUS: Even more matplotlib "
   ]
  },
  {
   "cell_type": "markdown",
   "metadata": {
    "nbpresent": {
     "id": "937ffe1a-9445-4aae-b0e5-797766b2335c"
    },
    "slideshow": {
     "slide_type": "skip"
    }
   },
   "source": [
    "If you want to see what the `coordinates` from [create_position()](#Multidimensionality,-indexing,-and-slicing) look like, read on:"
   ]
  },
  {
   "cell_type": "markdown",
   "metadata": {
    "nbpresent": {
     "id": "0044ebcb-58e3-45cf-b4d8-111cab0b041c"
    }
   },
   "source": [
    "`matplotlib` is said to make easy things easy and hard things possible when it comes to plotting. Let's make a three-panel plot giving the x, y, and z position as a function of frame."
   ]
  },
  {
   "cell_type": "code",
   "execution_count": 57,
   "metadata": {
    "nbpresent": {
     "id": "4988f426-e13c-4a0f-a1e4-30c8bc9b2445"
    },
    "slideshow": {
     "slide_type": "fragment"
    }
   },
   "outputs": [],
   "source": [
    "import matplotlib.pyplot as plt\n",
    "plt.matplotlib.style.use('ggplot')"
   ]
  },
  {
   "cell_type": "code",
   "execution_count": 58,
   "metadata": {
    "nbpresent": {
     "id": "93e03195-6788-40be-929f-e335dcee6cf4"
    }
   },
   "outputs": [],
   "source": [
    "%matplotlib inline"
   ]
  },
  {
   "cell_type": "markdown",
   "metadata": {
    "nbpresent": {
     "id": "612e904a-2409-4f18-a7c2-c29019e640d5"
    },
    "slideshow": {
     "slide_type": "fragment"
    }
   },
   "source": [
    "Create our fake trajectory:"
   ]
  },
  {
   "cell_type": "code",
   "execution_count": 59,
   "metadata": {
    "nbpresent": {
     "id": "5e7f4a7f-54e3-4f5c-9d86-3f3484c16f46"
    }
   },
   "outputs": [],
   "source": [
    "position = create_position()"
   ]
  },
  {
   "cell_type": "markdown",
   "metadata": {
    "nbpresent": {
     "id": "9fa06da8-45eb-4d02-a2c6-3368a975afcb"
    },
    "slideshow": {
     "slide_type": "subslide"
    }
   },
   "source": [
    "... and plot:"
   ]
  },
  {
   "cell_type": "code",
   "execution_count": 60,
   "metadata": {
    "nbpresent": {
     "id": "aaa098c7-ffcd-4ce3-9cdc-c25da08add62"
    }
   },
   "outputs": [
    {
     "data": {
      "image/png": "[encoded data removed]",
      "text/plain": [
       "<Figure size 720x216 with 3 Axes>"
      ]
     },
     "metadata": {
      "needs_background": "light"
     },
     "output_type": "display_data"
    }
   ],
   "source": [
    "fig = plt.figure(figsize=(10,3))\n",
    "\n",
    "# make an axis object for the figure, each with a different position\n",
    "# on a grid that has 1 row and 3 columns of axes\n",
    "ax1 = fig.add_subplot(1, 3, 1)\n",
    "ax2 = fig.add_subplot(1, 3, 2)\n",
    "ax3 = fig.add_subplot(1, 3, 3)\n",
    "\n",
    "# plot the x position\n",
    "ax1.set_ylabel('x position')\n",
    "ax1.set_xlabel('frame')\n",
    "ax1.plot(position[:, 0])\n",
    "\n",
    "# plot the y position\n",
    "ax2.set_ylabel('y position')\n",
    "ax1.set_xlabel('frame')\n",
    "ax2.plot(position[:, 1])\n",
    "\n",
    "# plot the z position\n",
    "ax3.set_ylabel('z position')\n",
    "ax1.set_xlabel('frame')\n",
    "ax3.plot(position[:, 2])\n",
    "\n",
    "fig.tight_layout()"
   ]
  },
  {
   "cell_type": "markdown",
   "metadata": {
    "collapsed": true,
    "nbpresent": {
     "id": "7255392b-f251-47c8-a7f3-bb68f39c6650"
    },
    "slideshow": {
     "slide_type": "subslide"
    }
   },
   "source": [
    "There's plenty more we could do with this to make it prettier. For a primer on making visually appealing and informative plots, check out [this notebook](https://github.com/Becksteinlab/making-prettier-plots/blob/master/Making%20better%20plots.ipynb)."
   ]
  },
  {
   "cell_type": "markdown",
   "metadata": {
    "nbpresent": {
     "id": "8c5d49c0-3ce0-4fc0-8c84-7c367436819e"
    },
    "slideshow": {
     "slide_type": "subslide"
    }
   },
   "source": [
    "### 3D plotting\n",
    "Matplotlib has [basic 3D capabilities](http://matplotlib.org/1.3.1/mpl_toolkits/mplot3d/tutorial.html)."
   ]
  },
  {
   "cell_type": "code",
   "execution_count": 61,
   "metadata": {
    "nbpresent": {
     "id": "8b02b62d-4793-46fa-a71b-0effdadf866e"
    }
   },
   "outputs": [],
   "source": [
    "%matplotlib inline"
   ]
  },
  {
   "cell_type": "markdown",
   "metadata": {
    "nbpresent": {
     "id": "0fcfe969-13ed-4227-94cb-31fd3d9861fc"
    }
   },
   "source": [
    "(You can also try `%matplotlib notebook` or `%matplotlib ipympl` and if you are lucky, you will be able to get an interactive 3D graphic. However, that does not always seem to work.)"
   ]
  },
  {
   "cell_type": "code",
   "execution_count": 62,
   "metadata": {
    "nbpresent": {
     "id": "d9d0bf5f-fdc9-4398-a504-e4db9fc7ed2b"
    },
    "slideshow": {
     "slide_type": "subslide"
    }
   },
   "outputs": [
    {
     "data": {
      "image/png": "[encoded data removed]",
      "text/plain": [
       "<Figure size 432x288 with 1 Axes>"
      ]
     },
     "metadata": {
      "needs_background": "light"
     },
     "output_type": "display_data"
    }
   ],
   "source": [
    "import matplotlib.pyplot as plt\n",
    "from mpl_toolkits.mplot3d import Axes3D\n",
    "fig = plt.figure()\n",
    "ax = fig.add_subplot(1,1,1, projection='3d')\n",
    "x, y, z = position.transpose()\n",
    "ax.plot(x, y, z)\n",
    "ax.set_xlabel(r\"$x$\")\n",
    "ax.set_ylabel(r\"$y$\")\n",
    "ax.set_zlabel(r\"$z$\");"
   ]
  },
  {
   "cell_type": "code",
   "execution_count": null,
   "metadata": {
    "nbpresent": {
     "id": "6d36f49c-6c83-4a26-aec6-a7081e7c3785"
    }
   },
   "outputs": [],
   "source": []
  }
 ],
 "metadata": {
  "anaconda-cloud": {},
  "celltoolbar": "Slideshow",
  "kernelspec": {
   "display_name": "Python 3",
   "language": "python",
   "name": "python3"
  },
  "language_info": {
   "codemirror_mode": {
    "name": "ipython",
    "version": 3
   },
   "file_extension": ".py",
   "mimetype": "text/x-python",
   "name": "python",
   "nbconvert_exporter": "python",
   "pygments_lexer": "ipython3",
   "version": "3.7.8"
  },
  "nbpresent": {
   "slides": {},
   "themes": {
    "default": "10b6fd21-4115-4147-a117-5c996e1ba747",
    "theme": {
     "10b6fd21-4115-4147-a117-5c996e1ba747": {
      "backgrounds": {
       "dc7afa04-bf90-40b1-82a5-726e3cff5267": {
        "background-color": "31af15d2-7e15-44c5-ab5e-e04b16a89eff",
        "id": "dc7afa04-bf90-40b1-82a5-726e3cff5267"
       }
      },
      "id": "10b6fd21-4115-4147-a117-5c996e1ba747",
      "palette": {
       "19cc588f-0593-49c9-9f4b-e4d7cc113b1c": {
        "id": "19cc588f-0593-49c9-9f4b-e4d7cc113b1c",
        "rgb": [
         252,
         252,
         252
        ]
       },
       "31af15d2-7e15-44c5-ab5e-e04b16a89eff": {
        "id": "31af15d2-7e15-44c5-ab5e-e04b16a89eff",
        "rgb": [
         68,
         68,
         68
        ]
       },
       "50f92c45-a630-455b-aec3-788680ec7410": {
        "id": "50f92c45-a630-455b-aec3-788680ec7410",
        "rgb": [
         197,
         226,
         245
        ]
       },
       "c5cc3653-2ee1-402a-aba2-7caae1da4f6c": {
        "id": "c5cc3653-2ee1-402a-aba2-7caae1da4f6c",
        "rgb": [
         43,
         126,
         184
        ]
       },
       "efa7f048-9acb-414c-8b04-a26811511a21": {
        "id": "efa7f048-9acb-414c-8b04-a26811511a21",
        "rgb": [
         25.118061674008803,
         73.60176211453744,
         107.4819383259912
        ]
       }
      },
      "rules": {
       "a": {
        "color": "19cc588f-0593-49c9-9f4b-e4d7cc113b1c"
       },
       "blockquote": {
        "color": "50f92c45-a630-455b-aec3-788680ec7410",
        "font-size": 3
       },
       "code": {
        "font-family": "Anonymous Pro"
       },
       "h1": {
        "color": "19cc588f-0593-49c9-9f4b-e4d7cc113b1c",
        "font-family": "Merriweather",
        "font-size": 8
       },
       "h2": {
        "color": "19cc588f-0593-49c9-9f4b-e4d7cc113b1c",
        "font-family": "Merriweather",
        "font-size": 6
       },
       "h3": {
        "color": "50f92c45-a630-455b-aec3-788680ec7410",
        "font-family": "Lato",
        "font-size": 5.5
       },
       "h4": {
        "color": "c5cc3653-2ee1-402a-aba2-7caae1da4f6c",
        "font-family": "Lato",
        "font-size": 5
       },
       "h5": {
        "font-family": "Lato"
       },
       "h6": {
        "font-family": "Lato"
       },
       "h7": {
        "font-family": "Lato"
       },
       "li": {
        "color": "50f92c45-a630-455b-aec3-788680ec7410",
        "font-size": 3.25
       },
       "pre": {
        "font-family": "Anonymous Pro",
        "font-size": 4
       }
      },
      "text-base": {
       "color": "19cc588f-0593-49c9-9f4b-e4d7cc113b1c",
       "font-family": "Lato",
       "font-size": 4
      }
     },
     "78823a80-3b5d-4f77-baed-0c0e3712cd6a": {
      "backgrounds": {
       "dc7afa04-bf90-40b1-82a5-726e3cff5267": {
        "background-color": "31af15d2-7e15-44c5-ab5e-e04b16a89eff",
        "id": "dc7afa04-bf90-40b1-82a5-726e3cff5267"
       }
      },
      "id": "78823a80-3b5d-4f77-baed-0c0e3712cd6a",
      "palette": {
       "19cc588f-0593-49c9-9f4b-e4d7cc113b1c": {
        "id": "19cc588f-0593-49c9-9f4b-e4d7cc113b1c",
        "rgb": [
         252,
         252,
         252
        ]
       },
       "31af15d2-7e15-44c5-ab5e-e04b16a89eff": {
        "id": "31af15d2-7e15-44c5-ab5e-e04b16a89eff",
        "rgb": [
         68,
         68,
         68
        ]
       },
       "50f92c45-a630-455b-aec3-788680ec7410": {
        "id": "50f92c45-a630-455b-aec3-788680ec7410",
        "rgb": [
         197,
         226,
         245
        ]
       },
       "c5cc3653-2ee1-402a-aba2-7caae1da4f6c": {
        "id": "c5cc3653-2ee1-402a-aba2-7caae1da4f6c",
        "rgb": [
         43,
         126,
         184
        ]
       },
       "efa7f048-9acb-414c-8b04-a26811511a21": {
        "id": "efa7f048-9acb-414c-8b04-a26811511a21",
        "rgb": [
         25.118061674008803,
         73.60176211453744,
         107.4819383259912
        ]
       }
      },
      "rules": {
       "a": {
        "color": "19cc588f-0593-49c9-9f4b-e4d7cc113b1c"
       },
       "blockquote": {
        "color": "50f92c45-a630-455b-aec3-788680ec7410",
        "font-size": 3
       },
       "code": {
        "font-family": "Anonymous Pro"
       },
       "h1": {
        "color": "19cc588f-0593-49c9-9f4b-e4d7cc113b1c",
        "font-family": "Merriweather",
        "font-size": 8
       },
       "h2": {
        "color": "19cc588f-0593-49c9-9f4b-e4d7cc113b1c",
        "font-family": "Merriweather",
        "font-size": 6
       },
       "h3": {
        "color": "50f92c45-a630-455b-aec3-788680ec7410",
        "font-family": "Lato",
        "font-size": 5.5
       },
       "h4": {
        "color": "c5cc3653-2ee1-402a-aba2-7caae1da4f6c",
        "font-family": "Lato",
        "font-size": 5
       },
       "h5": {
        "font-family": "Lato"
       },
       "h6": {
        "font-family": "Lato"
       },
       "h7": {
        "font-family": "Lato"
       },
       "li": {
        "color": "50f92c45-a630-455b-aec3-788680ec7410",
        "font-size": 3.25
       },
       "pre": {
        "font-family": "Anonymous Pro",
        "font-size": 4
       }
      },
      "text-base": {
       "color": "19cc588f-0593-49c9-9f4b-e4d7cc113b1c",
       "font-family": "Lato",
       "font-size": 4
      }
     }
    }
   }
  }
 },
 "nbformat": 4,
 "nbformat_minor": 1
}
