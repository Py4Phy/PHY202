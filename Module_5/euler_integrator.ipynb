{
 "cells": [
  {
   "cell_type": "markdown",
   "metadata": {
    "slideshow": {
     "slide_type": "slide"
    }
   },
   "source": [
    "# Solving ODEs with the Euler integrator\n",
    "\n",
    "**Ordinary differential equations** ([ODE](http://mathworld.wolfram.com/OrdinaryDifferentialEquation.html)s) describe many phenomena in physics. They describe the changes of a **dependent variable** $y(t)$ as a function of a **single independent variable** (e.g. $t$ or $x$)."
   ]
  },
  {
   "cell_type": "markdown",
   "metadata": {
    "slideshow": {
     "slide_type": "fragment"
    }
   },
   "source": [
    "- An ODE of order $n$ contains $\\frac{d^n y}{dt^n}$ as the highest derivative.\n",
    "\n",
    "  For example, **Newton's equations of motion** \n",
    "  \n",
    "  $$\n",
    "  F = m \\frac{d^2 x(t)}{dt^2}\n",
    "  $$\n",
    "  \n",
    "  are second order ODEs.\n",
    "\n",
    "- An ODE of order $n$ requires $n$ initial conditions to uniquely determine a solution $y(t)$.\n",
    "  For Newton: we need initial position $x(t=0)$ and velocity $v(t=0)$.\n",
    "  \n",
    "- Linear ODEs contain no higher powers than 1 of any of the derivatives (including the 0-th derivative $y$ term).\n",
    "\n",
    "- Non-linear ODEs can contain any powers in the dependent variable and its derivatives."
   ]
  },
  {
   "cell_type": "markdown",
   "metadata": {
    "slideshow": {
     "slide_type": "subslide"
    }
   },
   "source": [
    "## Integrating ODEs with Euler's algorithm\n",
    "First order ODE:\n",
    "\n",
    "$$\n",
    "\\frac{dy}{dt} = f(t, y)\n",
    "$$"
   ]
  },
  {
   "cell_type": "markdown",
   "metadata": {
    "slideshow": {
     "slide_type": "fragment"
    }
   },
   "source": [
    "Basic idea: \n",
    "1. Start with initial conditions, $y_0 \\equiv y(t=0)$\n",
    "2. Use $\\frac{dy}{dt} = f(t, y)$ (the RHS!) to advance solution a small step $h$ forward in time: $y(t=h) \\equiv y_1$\n",
    "3. Repeat with $y_1$ to obtain $y_2 \\equiv y(t=2h)$... and for all future values of $t$."
   ]
  },
  {
   "cell_type": "markdown",
   "metadata": {
    "slideshow": {
     "slide_type": "subslide"
    }
   },
   "source": [
    "### Euler's algorithm\n",
    "Use the forward difference approximation for the derivative:\n",
    "\n",
    "$$\n",
    "f(t, y) = \\frac{dy(t)}{dt} \\approx \\frac{y(t_{n+1}) - y(t_n)}{h}\n",
    "$$"
   ]
  },
  {
   "cell_type": "markdown",
   "metadata": {
    "slideshow": {
     "slide_type": "fragment"
    }
   },
   "source": [
    "Solve for the position in the future $y(t_{n+1})$, based on present *and known* values $y(t_n)$ and  $f\\big(t_n, y(t_n)\\big)$:\n",
    "\n",
    "$$\n",
    "y_{n+1} \\approx y_n + h f(t_n, y_n) \\quad \\text{with} \\quad y_n := y(t_n)\n",
    "$$"
   ]
  },
  {
   "cell_type": "markdown",
   "metadata": {
    "slideshow": {
     "slide_type": "subslide"
    }
   },
   "source": [
    "### Convert 2nd order ODE to 2 coupled 1st order ODEs\n",
    "The 2nd order ODE is\n",
    "$$\n",
    "\\frac{d^2 y}{dt^2} = f(t, y)\n",
    "$$\n",
    "\n",
    "Introduce \"dummy\" dependent variables $y_i$ with $y_0 \\equiv y$ and\n",
    "\n",
    "\\begin{alignat}{1}\n",
    "\\frac{dy}{dt} &= \\frac{dy_0}{dt} &=   y_1\\\\\n",
    "\\frac{d^2y}{dt^2} &= \\frac{dy_1}{dt} &= {} f(t, y_0).\n",
    "\\end{alignat}\n"
   ]
  },
  {
   "cell_type": "markdown",
   "metadata": {
    "slideshow": {
     "slide_type": "fragment"
    }
   },
   "source": [
    "The first equation defines the velocity $y_1 = v$ and the second one is the original ODE."
   ]
  },
  {
   "cell_type": "markdown",
   "metadata": {
    "slideshow": {
     "slide_type": "slide"
    }
   },
   "source": [
    "## Bouncing ball \n",
    "\n",
    "Problem: Integrate the equations of a bouncing ball under gravity\n",
    "* Drop from height $y_0 = 2$ within initial velocity $v_0 = 0$. \n",
    "* The ball bounces elastically off the ground at $y=0$."
   ]
  },
  {
   "cell_type": "markdown",
   "metadata": {
    "slideshow": {
     "slide_type": "fragment"
    }
   },
   "source": [
    "We have to solve the *second order ODE* (Newton's equations of motion with constant acceleration)\n",
    "\n",
    "$$\n",
    "\\frac{d^2 y}{dt^2} = -g.\n",
    "$$"
   ]
  },
  {
   "cell_type": "markdown",
   "metadata": {
    "slideshow": {
     "slide_type": "subslide"
    }
   },
   "source": [
    "The Euler scheme for any *first order ODE* \n",
    "\n",
    "$$\n",
    "\\frac{dy}{dt} = f(y, t)\n",
    "$$\n",
    "\n",
    "is\n",
    "$$\n",
    "y(t + h) = y(t) + h f(y(t), t).\n",
    "$$"
   ]
  },
  {
   "cell_type": "markdown",
   "metadata": {
    "slideshow": {
     "slide_type": "subslide"
    }
   },
   "source": [
    "In order to solve the original 2nd order equation of motion we make use of the fact that one $n$-th order ODE can be written as $n$ coupled first order ODEs, namely \n",
    "\n",
    "\\begin{align}\n",
    "\\frac{dy}{dt} &= v\\\\\n",
    "\\frac{dv}{dt} &= -g.\n",
    "\\end{align}"
   ]
  },
  {
   "cell_type": "markdown",
   "metadata": {
    "slideshow": {
     "slide_type": "fragment"
    }
   },
   "source": [
    "Solve each of the first order ODEs with Euler:\n",
    "\n",
    "\\begin{align}\n",
    "y(t + h) &= y(t) + h v(t)\\\\\n",
    "v(t + h) &= v(t) - h g.\n",
    "\\end{align}"
   ]
  },
  {
   "cell_type": "markdown",
   "metadata": {
    "slideshow": {
     "slide_type": "slide"
    }
   },
   "source": [
    "### Free fall "
   ]
  },
  {
   "cell_type": "markdown",
   "metadata": {},
   "source": [
    "Start with free fall as an even simpler problem."
   ]
  },
  {
   "cell_type": "code",
   "execution_count": 1,
   "metadata": {},
   "outputs": [],
   "source": [
    "import numpy as np"
   ]
  },
  {
   "cell_type": "code",
   "execution_count": 2,
   "metadata": {
    "slideshow": {
     "slide_type": "subslide"
    }
   },
   "outputs": [],
   "source": [
    "# parameters\n",
    "g = -9.81\n",
    "# initial conditions\n",
    "y = 2.0\n",
    "v = 0.0\n",
    "\n",
    "t = 0\n",
    "dt = 0.01\n",
    "\n",
    "# record initial conditions\n",
    "data = [[t, y, v]]\n",
    "\n",
    "# start at first step\n",
    "t = dt\n",
    "while t < 10:\n",
    "    y = y + v*dt\n",
    "    v = v + g*dt\n",
    "    data.append([t, y, v]) \n",
    "    t += dt\n",
    "\n",
    "data = np.array(data) "
   ]
  },
  {
   "cell_type": "code",
   "execution_count": 3,
   "metadata": {
    "slideshow": {
     "slide_type": "subslide"
    }
   },
   "outputs": [
    {
     "data": {
      "text/plain": [
       "(1001, 3)"
      ]
     },
     "execution_count": 3,
     "metadata": {},
     "output_type": "execute_result"
    }
   ],
   "source": [
    "data.shape"
   ]
  },
  {
   "cell_type": "markdown",
   "metadata": {},
   "source": [
    "Look at the first few values:"
   ]
  },
  {
   "cell_type": "code",
   "execution_count": 4,
   "metadata": {},
   "outputs": [
    {
     "data": {
      "text/plain": [
       "array([[ 0.      ,  2.      ,  0.      ],\n",
       "       [ 0.01    ,  2.      , -0.0981  ],\n",
       "       [ 0.02    ,  1.999019, -0.1962  ],\n",
       "       [ 0.03    ,  1.997057, -0.2943  ]])"
      ]
     },
     "execution_count": 4,
     "metadata": {},
     "output_type": "execute_result"
    }
   ],
   "source": [
    "data[:4]"
   ]
  },
  {
   "cell_type": "markdown",
   "metadata": {},
   "source": [
    "To make it more convenient to get `t = data[:, 0]`, `y = data[:, 1]`, and `v = data[:, 2]` we use transposition to change the array from time x coordinates to coordinates x time and then use tuple assignment:"
   ]
  },
  {
   "cell_type": "code",
   "execution_count": 5,
   "metadata": {
    "slideshow": {
     "slide_type": "fragment"
    }
   },
   "outputs": [
    {
     "data": {
      "text/plain": [
       "(3, 1001)"
      ]
     },
     "execution_count": 5,
     "metadata": {},
     "output_type": "execute_result"
    }
   ],
   "source": [
    "data = data.transpose()\n",
    "data.shape  # t, y, v"
   ]
  },
  {
   "cell_type": "code",
   "execution_count": 6,
   "metadata": {},
   "outputs": [],
   "source": [
    "t, y, v = data"
   ]
  },
  {
   "cell_type": "markdown",
   "metadata": {
    "slideshow": {
     "slide_type": "subslide"
    }
   },
   "source": [
    "Plot the trajectory $y(t)$ with matplotlib.\n",
    "\n",
    "(Using `t = data[0]` for time and `y = data[1]` for position, after the transposition!)"
   ]
  },
  {
   "cell_type": "code",
   "execution_count": 7,
   "metadata": {
    "slideshow": {
     "slide_type": "-"
    }
   },
   "outputs": [],
   "source": [
    "import matplotlib.pyplot as plt\n",
    "%matplotlib inline"
   ]
  },
  {
   "cell_type": "code",
   "execution_count": 8,
   "metadata": {
    "scrolled": false,
    "slideshow": {
     "slide_type": "subslide"
    }
   },
   "outputs": [
    {
     "data": {
      "image/png": "[encoded data removed]",
      "text/plain": [
       "<Figure size 432x288 with 1 Axes>"
      ]
     },
     "metadata": {
      "needs_background": "light"
     },
     "output_type": "display_data"
    }
   ],
   "source": [
    "plt.plot(data[0], data[1])\n",
    "plt.xlabel(\"time (s)\")\n",
    "plt.ylabel(\"position (m)\");"
   ]
  },
  {
   "cell_type": "markdown",
   "metadata": {
    "slideshow": {
     "slide_type": "slide"
    }
   },
   "source": [
    "### Bouncing\n",
    "Add a floor at $y = 0$.\n",
    "\n",
    "What happens at the floor? – The velocity changes (elastic collision)."
   ]
  },
  {
   "cell_type": "code",
   "execution_count": 9,
   "metadata": {
    "slideshow": {
     "slide_type": "fragment"
    }
   },
   "outputs": [],
   "source": [
    "# parameters\n",
    "g = -9.81\n",
    "y_floor = 0\n",
    "\n",
    "# initial conditions\n",
    "y = 2.0\n",
    "v = 0.0\n",
    "\n",
    "t = 0\n",
    "dt = 0.01\n",
    "\n",
    "# record initial conditions\n",
    "data = [[t, y, v]]\n",
    "\n",
    "# start at first step\n",
    "t = dt\n",
    "while t < 10:\n",
    "    y += v*dt\n",
    "    if y > y_floor:\n",
    "        v += g*dt\n",
    "    else:\n",
    "        v = -v   # bounce off floor\n",
    "    data.append([t, y, v]) \n",
    "    t += dt\n",
    "\n",
    "data = np.array(data).transpose() "
   ]
  },
  {
   "cell_type": "code",
   "execution_count": 10,
   "metadata": {
    "slideshow": {
     "slide_type": "subslide"
    }
   },
   "outputs": [
    {
     "data": {
      "image/png": "[encoded data removed]",
      "text/plain": [
       "<Figure size 432x288 with 1 Axes>"
      ]
     },
     "metadata": {
      "needs_background": "light"
     },
     "output_type": "display_data"
    }
   ],
   "source": [
    "plt.plot(data[0], data[1])\n",
    "plt.xlabel(\"time (s)\")\n",
    "plt.ylabel(\"position (m)\");"
   ]
  },
  {
   "cell_type": "markdown",
   "metadata": {
    "slideshow": {
     "slide_type": "slide"
    }
   },
   "source": [
    "## Summary: Euler integrator "
   ]
  },
  {
   "cell_type": "markdown",
   "metadata": {},
   "source": [
    "1. If the order of the ODE > 1 then write the ODE as a coupled system of n first order ODEs.\n",
    "\n",
    "   For Newton's EOM ($F = m\\frac{d^2}{dt^2}$):\n",
    "   \n",
    "   \\begin{align}\n",
    "   \\frac{dx}{dt} &= v\\\\\n",
    "   \\frac{dv}{dt} &= m^{-1}F\n",
    "   \\end{align}\n",
    "   \n",
    "   Note that $F$ typically depends on $x$, e.g., $F(x) = -\\frac{\\partial U}{\\partial x}$ when the force can be derived from a potential energy function $U(x)$.\n",
    "2. Solve all first order ODEs with the forward Euler algorithm for time step $\\Delta t$:\n",
    "\n",
    "   \\begin{align}\n",
    "   x_{t+1} &= x_t + v \\Delta t\\\\\n",
    "   v_{t+1} &= v_t + m^{-1} F(x_t) \\Delta t\n",
    "   \\end{align}\n",
    "\n"
   ]
  },
  {
   "cell_type": "markdown",
   "metadata": {
    "slideshow": {
     "slide_type": "fragment"
    }
   },
   "source": [
    "The time step of the Euler algorithm has to be chosen small because the error in $x(t)$ will go like $\\Delta t^2$ – Euler is really a terrible algorithm but for this introductory class it is good enough. Better algorithms exist and are not much more difficult (see, e.g., PHY432 Computational Methods)."
   ]
  }
 ],
 "metadata": {
  "anaconda-cloud": {},
  "celltoolbar": "Slideshow",
  "kernelspec": {
   "display_name": "Python 3",
   "language": "python",
   "name": "python3"
  },
  "language_info": {
   "codemirror_mode": {
    "name": "ipython",
    "version": 3
   },
   "file_extension": ".py",
   "mimetype": "text/x-python",
   "name": "python",
   "nbconvert_exporter": "python",
   "pygments_lexer": "ipython3",
   "version": "3.7.8"
  }
 },
 "nbformat": 4,
 "nbformat_minor": 1
}
